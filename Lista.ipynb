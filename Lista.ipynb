{
 "cells": [
  {
   "cell_type": "markdown",
   "metadata": {},
   "source": [
    "# Introdução ao Python - Lista de Exercícios"
   ]
  },
  {
   "cell_type": "markdown",
   "metadata": {},
   "source": [
    "## 1. Harmônicos Esféricos\n",
    "\n",
    "Compute o quadrado dos módulos dos harmônicos esféricos, $|Y_l^m(\\theta, \\phi)|^2$, para $0 < \\theta < \\pi/2$ e $0 < \\phi < \\pi$, $l=(0, 1, 2, 3)$ e todos dos valores possíveis de $m$. Armazene os resultados em numpy arrays, e faça os gráficos 3D, em coordenadas cartesianas, com o Matplotlib. Use o Scipy e o Sympy, compare o tempo de execução das duas bibliotecas."
   ]
  },
  {
   "cell_type": "markdown",
   "metadata": {},
   "source": [
    "## 2. Oscilador harmônico amortecido\n",
    "\n",
    "Encontre a solução exata, usando o Sympy, da equação diferencial para um oscilador harmônico amortecido:\n",
    "\n",
    "$$\\ddot{x} + 2 \\gamma \\omega \\dot{x} + \\omega^2 x = 0$$\n",
    "\n",
    "Faça os gráficos de posição vs tempo e velocidade vs posição para $\\omega = (2\\pi) s^{-1}$ e $\\gamma = (0, 0.2, 1.0, 5.0)$. Comente seu resultado."
   ]
  },
  {
   "cell_type": "markdown",
   "metadata": {},
   "source": [
    "## 3. Oscilador harmônico amortecido por atrito\n",
    "\n",
    "Resolva numericamente, usando o Scipy, a equação diferencial para um oscilador harmônico amortecido por uma força de atrito:\n",
    "\n",
    "$$\\ddot{x} + \\mu \\times \\mathrm{sign}(\\dot{x}) + \\omega^2 x = 0$$\n",
    "\n",
    "Faça os gráficos de posição vs tempo e velocidade vs posição para $\\omega = (2\\pi) s^{-1}$. Varie os valores de $\\mu$, partindo dos valores de $\\gamma$, do exercício anterior. Faça os gráficos de posição vs tempo e velocidade vs posição. Discuta seus resultados e os limites do método."
   ]
  },
  {
   "cell_type": "markdown",
   "metadata": {},
   "source": [
    "## <font color=red>Lembrem-se:</font> "
   ]
  },
  {
   "cell_type": "code",
   "execution_count": 8,
   "metadata": {},
   "outputs": [
    {
     "name": "stdout",
     "output_type": "stream",
     "text": [
      "The Zen of Python, by Tim Peters\n",
      "\n",
      "Beautiful is better than ugly.\n",
      "Explicit is better than implicit.\n",
      "Simple is better than complex.\n",
      "Complex is better than complicated.\n",
      "Flat is better than nested.\n",
      "Sparse is better than dense.\n",
      "Readability counts.\n",
      "Special cases aren't special enough to break the rules.\n",
      "Although practicality beats purity.\n",
      "Errors should never pass silently.\n",
      "Unless explicitly silenced.\n",
      "In the face of ambiguity, refuse the temptation to guess.\n",
      "There should be one-- and preferably only one --obvious way to do it.\n",
      "Although that way may not be obvious at first unless you're Dutch.\n",
      "Now is better than never.\n",
      "Although never is often better than *right* now.\n",
      "If the implementation is hard to explain, it's a bad idea.\n",
      "If the implementation is easy to explain, it may be a good idea.\n",
      "Namespaces are one honking great idea -- let's do more of those!\n"
     ]
    }
   ],
   "source": [
    "import this"
   ]
  },
  {
   "cell_type": "code",
   "execution_count": null,
   "metadata": {},
   "outputs": [],
   "source": []
  }
 ],
 "metadata": {
  "kernelspec": {
   "display_name": "Python 3",
   "language": "python",
   "name": "python3"
  },
  "language_info": {
   "codemirror_mode": {
    "name": "ipython",
    "version": 3
   },
   "file_extension": ".py",
   "mimetype": "text/x-python",
   "name": "python",
   "nbconvert_exporter": "python",
   "pygments_lexer": "ipython3",
   "version": "3.7.4"
  }
 },
 "nbformat": 4,
 "nbformat_minor": 2
}
